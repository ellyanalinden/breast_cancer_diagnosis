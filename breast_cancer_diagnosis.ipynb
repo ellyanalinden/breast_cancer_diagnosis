{
  "nbformat": 4,
  "nbformat_minor": 0,
  "metadata": {
    "colab": {
      "name": "breast_cancer_diagnosis",
      "version": "0.3.2",
      "provenance": [],
      "include_colab_link": true
    },
    "kernelspec": {
      "name": "python3",
      "display_name": "Python 3"
    }
  },
  "cells": [
    {
      "cell_type": "markdown",
      "metadata": {
        "id": "view-in-github",
        "colab_type": "text"
      },
      "source": [
        "<a href=\"https://colab.research.google.com/github/ellyanalinden/breast_cancer_diagnosis/blob/master/breast_cancer_diagnosis.ipynb\" target=\"_parent\"><img src=\"https://colab.research.google.com/assets/colab-badge.svg\" alt=\"Open In Colab\"/></a>"
      ]
    },
    {
      "metadata": {
        "id": "djvEX6svWwnL",
        "colab_type": "code",
        "colab": {}
      },
      "cell_type": "code",
      "source": [
        "import numpy as np\n",
        "import torch\n",
        "import torch.nn as nn\n",
        "from torch.autograd import Variable\n",
        "import pandas as pd\n",
        "from sklearn.preprocessing import StandardScaler\n",
        "from torch.utils.data import Dataset"
      ],
      "execution_count": 0,
      "outputs": []
    },
    {
      "metadata": {
        "id": "uCwcnY_9Xor4",
        "colab_type": "code",
        "colab": {}
      },
      "cell_type": "code",
      "source": [
        "data = pd.read_csv('Breast_cancer_data.csv')\n",
        "x = data.iloc[:, 0:-1].values\n",
        "y_int = list(data.iloc[:, -1])"
      ],
      "execution_count": 0,
      "outputs": []
    },
    {
      "metadata": {
        "id": "1aG0-uzibEFN",
        "colab_type": "code",
        "outputId": "def92b5e-d107-4629-d3fd-5dc1aab7d8c1",
        "colab": {
          "base_uri": "https://localhost:8080/",
          "height": 136
        }
      },
      "cell_type": "code",
      "source": [
        "x"
      ],
      "execution_count": 3,
      "outputs": [
        {
          "output_type": "execute_result",
          "data": {
            "text/plain": [
              "array([[1.799e+01, 1.038e+01, 1.228e+02, 1.001e+03, 1.184e-01],\n",
              "       [2.057e+01, 1.777e+01, 1.329e+02, 1.326e+03, 8.474e-02],\n",
              "       [1.969e+01, 2.125e+01, 1.300e+02, 1.203e+03, 1.096e-01],\n",
              "       ...,\n",
              "       [1.660e+01, 2.808e+01, 1.083e+02, 8.581e+02, 8.455e-02],\n",
              "       [2.060e+01, 2.933e+01, 1.401e+02, 1.265e+03, 1.178e-01],\n",
              "       [7.760e+00, 2.454e+01, 4.792e+01, 1.810e+02, 5.263e-02]])"
            ]
          },
          "metadata": {
            "tags": []
          },
          "execution_count": 3
        }
      ]
    },
    {
      "metadata": {
        "id": "iVCZzRjRbjHa",
        "colab_type": "code",
        "outputId": "1263c0fe-e2ca-434c-c3ec-2c30d83d57f4",
        "colab": {
          "base_uri": "https://localhost:8080/",
          "height": 54
        }
      },
      "cell_type": "code",
      "source": [
        "print (y_int,)"
      ],
      "execution_count": 4,
      "outputs": [
        {
          "output_type": "stream",
          "text": [
            "[0, 0, 0, 0, 0, 0, 0, 0, 0, 0, 0, 0, 0, 0, 0, 0, 0, 0, 0, 1, 1, 1, 0, 0, 0, 0, 0, 0, 0, 0, 0, 0, 0, 0, 0, 0, 0, 1, 0, 0, 0, 0, 0, 0, 0, 0, 1, 0, 1, 1, 1, 1, 1, 0, 0, 1, 0, 0, 1, 1, 1, 1, 0, 1, 0, 0, 1, 1, 1, 1, 0, 1, 0, 0, 1, 0, 1, 0, 0, 1, 1, 1, 0, 0, 1, 0, 0, 0, 1, 1, 1, 0, 1, 1, 0, 0, 1, 1, 1, 0, 0, 1, 1, 1, 1, 0, 1, 1, 0, 1, 1, 1, 1, 1, 1, 1, 1, 0, 0, 0, 1, 0, 0, 1, 1, 1, 0, 0, 1, 0, 1, 0, 0, 1, 0, 0, 1, 1, 0, 1, 1, 0, 1, 1, 1, 1, 0, 1, 1, 1, 1, 1, 1, 1, 1, 1, 0, 1, 1, 1, 1, 0, 0, 1, 0, 1, 1, 0, 0, 1, 1, 0, 0, 1, 1, 1, 1, 0, 1, 1, 0, 0, 0, 1, 0, 1, 0, 1, 1, 1, 0, 1, 1, 0, 0, 1, 0, 0, 0, 0, 1, 0, 0, 0, 1, 0, 1, 0, 1, 1, 0, 1, 0, 0, 0, 0, 1, 1, 0, 0, 1, 1, 1, 0, 1, 1, 1, 1, 1, 0, 0, 1, 1, 0, 1, 1, 0, 0, 1, 0, 1, 1, 1, 1, 0, 1, 1, 1, 1, 1, 0, 1, 0, 0, 0, 0, 0, 0, 0, 0, 0, 0, 0, 0, 0, 0, 1, 1, 1, 1, 1, 1, 0, 1, 0, 1, 1, 0, 1, 1, 0, 1, 0, 0, 1, 1, 1, 1, 1, 1, 1, 1, 1, 1, 1, 1, 1, 0, 1, 1, 0, 1, 0, 1, 1, 1, 1, 1, 1, 1, 1, 1, 1, 1, 1, 1, 1, 0, 1, 1, 1, 0, 1, 0, 1, 1, 1, 1, 0, 0, 0, 1, 1, 1, 1, 0, 1, 0, 1, 0, 1, 1, 1, 0, 1, 1, 1, 1, 1, 1, 1, 0, 0, 0, 1, 1, 1, 1, 1, 1, 1, 1, 1, 1, 1, 0, 0, 1, 0, 0, 0, 1, 0, 0, 1, 1, 1, 1, 1, 0, 1, 1, 1, 1, 1, 0, 1, 1, 1, 0, 1, 1, 0, 0, 1, 1, 1, 1, 1, 1, 0, 1, 1, 1, 1, 1, 1, 1, 0, 1, 1, 1, 1, 1, 0, 1, 1, 0, 1, 1, 1, 1, 1, 1, 1, 1, 1, 1, 1, 1, 0, 1, 0, 0, 1, 0, 1, 1, 1, 1, 1, 0, 1, 1, 0, 1, 0, 1, 1, 0, 1, 0, 1, 1, 1, 1, 1, 1, 1, 1, 0, 0, 1, 1, 1, 1, 1, 1, 0, 1, 1, 1, 1, 1, 1, 1, 1, 1, 1, 0, 1, 1, 1, 1, 1, 1, 1, 0, 1, 0, 1, 1, 0, 1, 1, 1, 1, 1, 0, 0, 1, 0, 1, 0, 1, 1, 1, 1, 1, 0, 1, 1, 0, 1, 0, 1, 0, 0, 1, 1, 1, 0, 1, 1, 1, 1, 1, 1, 1, 1, 1, 1, 1, 0, 1, 0, 0, 1, 1, 1, 1, 1, 1, 1, 1, 1, 1, 1, 1, 1, 1, 1, 1, 1, 1, 1, 1, 1, 1, 1, 1, 1, 0, 0, 0, 0, 0, 0, 1]\n"
          ],
          "name": "stdout"
        }
      ]
    },
    {
      "metadata": {
        "id": "_s9cn3gZcK3c",
        "colab_type": "code",
        "outputId": "1c11fe6f-5cf1-4cf5-b6c2-23a58dfd456f",
        "colab": {
          "base_uri": "https://localhost:8080/",
          "height": 34
        }
      },
      "cell_type": "code",
      "source": [
        "type (y_int)"
      ],
      "execution_count": 5,
      "outputs": [
        {
          "output_type": "execute_result",
          "data": {
            "text/plain": [
              "list"
            ]
          },
          "metadata": {
            "tags": []
          },
          "execution_count": 5
        }
      ]
    },
    {
      "metadata": {
        "id": "hN0yQBEUZ5gu",
        "colab_type": "code",
        "colab": {}
      },
      "cell_type": "code",
      "source": [
        "y = np.array(y_int, dtype = 'float64')"
      ],
      "execution_count": 0,
      "outputs": []
    },
    {
      "metadata": {
        "id": "SGsIcizguJ3C",
        "colab_type": "code",
        "colab": {
          "base_uri": "https://localhost:8080/",
          "height": 595
        },
        "outputId": "4ebae67d-85e5-4db7-ba10-9f7d3ee2b23e"
      },
      "cell_type": "code",
      "source": [
        "y"
      ],
      "execution_count": 7,
      "outputs": [
        {
          "output_type": "execute_result",
          "data": {
            "text/plain": [
              "array([0., 0., 0., 0., 0., 0., 0., 0., 0., 0., 0., 0., 0., 0., 0., 0., 0.,\n",
              "       0., 0., 1., 1., 1., 0., 0., 0., 0., 0., 0., 0., 0., 0., 0., 0., 0.,\n",
              "       0., 0., 0., 1., 0., 0., 0., 0., 0., 0., 0., 0., 1., 0., 1., 1., 1.,\n",
              "       1., 1., 0., 0., 1., 0., 0., 1., 1., 1., 1., 0., 1., 0., 0., 1., 1.,\n",
              "       1., 1., 0., 1., 0., 0., 1., 0., 1., 0., 0., 1., 1., 1., 0., 0., 1.,\n",
              "       0., 0., 0., 1., 1., 1., 0., 1., 1., 0., 0., 1., 1., 1., 0., 0., 1.,\n",
              "       1., 1., 1., 0., 1., 1., 0., 1., 1., 1., 1., 1., 1., 1., 1., 0., 0.,\n",
              "       0., 1., 0., 0., 1., 1., 1., 0., 0., 1., 0., 1., 0., 0., 1., 0., 0.,\n",
              "       1., 1., 0., 1., 1., 0., 1., 1., 1., 1., 0., 1., 1., 1., 1., 1., 1.,\n",
              "       1., 1., 1., 0., 1., 1., 1., 1., 0., 0., 1., 0., 1., 1., 0., 0., 1.,\n",
              "       1., 0., 0., 1., 1., 1., 1., 0., 1., 1., 0., 0., 0., 1., 0., 1., 0.,\n",
              "       1., 1., 1., 0., 1., 1., 0., 0., 1., 0., 0., 0., 0., 1., 0., 0., 0.,\n",
              "       1., 0., 1., 0., 1., 1., 0., 1., 0., 0., 0., 0., 1., 1., 0., 0., 1.,\n",
              "       1., 1., 0., 1., 1., 1., 1., 1., 0., 0., 1., 1., 0., 1., 1., 0., 0.,\n",
              "       1., 0., 1., 1., 1., 1., 0., 1., 1., 1., 1., 1., 0., 1., 0., 0., 0.,\n",
              "       0., 0., 0., 0., 0., 0., 0., 0., 0., 0., 0., 1., 1., 1., 1., 1., 1.,\n",
              "       0., 1., 0., 1., 1., 0., 1., 1., 0., 1., 0., 0., 1., 1., 1., 1., 1.,\n",
              "       1., 1., 1., 1., 1., 1., 1., 1., 0., 1., 1., 0., 1., 0., 1., 1., 1.,\n",
              "       1., 1., 1., 1., 1., 1., 1., 1., 1., 1., 1., 0., 1., 1., 1., 0., 1.,\n",
              "       0., 1., 1., 1., 1., 0., 0., 0., 1., 1., 1., 1., 0., 1., 0., 1., 0.,\n",
              "       1., 1., 1., 0., 1., 1., 1., 1., 1., 1., 1., 0., 0., 0., 1., 1., 1.,\n",
              "       1., 1., 1., 1., 1., 1., 1., 1., 0., 0., 1., 0., 0., 0., 1., 0., 0.,\n",
              "       1., 1., 1., 1., 1., 0., 1., 1., 1., 1., 1., 0., 1., 1., 1., 0., 1.,\n",
              "       1., 0., 0., 1., 1., 1., 1., 1., 1., 0., 1., 1., 1., 1., 1., 1., 1.,\n",
              "       0., 1., 1., 1., 1., 1., 0., 1., 1., 0., 1., 1., 1., 1., 1., 1., 1.,\n",
              "       1., 1., 1., 1., 1., 0., 1., 0., 0., 1., 0., 1., 1., 1., 1., 1., 0.,\n",
              "       1., 1., 0., 1., 0., 1., 1., 0., 1., 0., 1., 1., 1., 1., 1., 1., 1.,\n",
              "       1., 0., 0., 1., 1., 1., 1., 1., 1., 0., 1., 1., 1., 1., 1., 1., 1.,\n",
              "       1., 1., 1., 0., 1., 1., 1., 1., 1., 1., 1., 0., 1., 0., 1., 1., 0.,\n",
              "       1., 1., 1., 1., 1., 0., 0., 1., 0., 1., 0., 1., 1., 1., 1., 1., 0.,\n",
              "       1., 1., 0., 1., 0., 1., 0., 0., 1., 1., 1., 0., 1., 1., 1., 1., 1.,\n",
              "       1., 1., 1., 1., 1., 1., 0., 1., 0., 0., 1., 1., 1., 1., 1., 1., 1.,\n",
              "       1., 1., 1., 1., 1., 1., 1., 1., 1., 1., 1., 1., 1., 1., 1., 1., 1.,\n",
              "       1., 0., 0., 0., 0., 0., 0., 1.])"
            ]
          },
          "metadata": {
            "tags": []
          },
          "execution_count": 7
        }
      ]
    },
    {
      "metadata": {
        "id": "cEDgaASRuUmt",
        "colab_type": "code",
        "colab": {}
      },
      "cell_type": "code",
      "source": [
        "# Normalize data\n",
        "sc = StandardScaler()\n",
        "x = sc.fit_transform(x)"
      ],
      "execution_count": 0,
      "outputs": []
    },
    {
      "metadata": {
        "id": "z3JhzQrcvZKH",
        "colab_type": "code",
        "colab": {
          "base_uri": "https://localhost:8080/",
          "height": 136
        },
        "outputId": "57dd751c-b933-4e8b-c783-7074f9fca30c"
      },
      "cell_type": "code",
      "source": [
        "x"
      ],
      "execution_count": 9,
      "outputs": [
        {
          "output_type": "execute_result",
          "data": {
            "text/plain": [
              "array([[ 1.09706398, -2.07333501,  1.26993369,  0.9843749 ,  1.56846633],\n",
              "       [ 1.82982061, -0.35363241,  1.68595471,  1.90870825, -0.82696245],\n",
              "       [ 1.57988811,  0.45618695,  1.56650313,  1.55888363,  0.94221044],\n",
              "       ...,\n",
              "       [ 0.70228425,  2.0455738 ,  0.67267578,  0.57795264, -0.84048388],\n",
              "       [ 1.83834103,  2.33645719,  1.98252415,  1.73521799,  1.52576706],\n",
              "       [-1.80840125,  1.22179204, -1.81438851, -1.34778924, -3.11208479]])"
            ]
          },
          "metadata": {
            "tags": []
          },
          "execution_count": 9
        }
      ]
    },
    {
      "metadata": {
        "id": "vhdNDwrlwb4I",
        "colab_type": "code",
        "colab": {
          "base_uri": "https://localhost:8080/",
          "height": 34
        },
        "outputId": "2957b83e-bf4a-41b1-f6fa-f0506e57e699"
      },
      "cell_type": "code",
      "source": [
        "y.shape\n",
        "# 1 dimension"
      ],
      "execution_count": 10,
      "outputs": [
        {
          "output_type": "execute_result",
          "data": {
            "text/plain": [
              "(569,)"
            ]
          },
          "metadata": {
            "tags": []
          },
          "execution_count": 10
        }
      ]
    },
    {
      "metadata": {
        "id": "OjbszcZHv4tE",
        "colab_type": "code",
        "colab": {}
      },
      "cell_type": "code",
      "source": [
        "# Transform data to torch tensor\n",
        "# Change to 2 dimensional to feed data to NN\n",
        "x = torch.tensor(x)\n",
        "y = torch.tensor(y).unsqueeze(1)"
      ],
      "execution_count": 0,
      "outputs": []
    },
    {
      "metadata": {
        "id": "iyJBG4FFw6-b",
        "colab_type": "code",
        "colab": {
          "base_uri": "https://localhost:8080/",
          "height": 51
        },
        "outputId": "566a6c6c-0733-4c73-e70d-412877965bae"
      },
      "cell_type": "code",
      "source": [
        "print (x.shape, x.dtype)\n",
        "print (y.shape, y.dtype)"
      ],
      "execution_count": 12,
      "outputs": [
        {
          "output_type": "stream",
          "text": [
            "torch.Size([569, 5]) torch.float64\n",
            "torch.Size([569, 1]) torch.float64\n"
          ],
          "name": "stdout"
        }
      ]
    },
    {
      "metadata": {
        "id": "CRel9SjixTcj",
        "colab_type": "code",
        "colab": {}
      },
      "cell_type": "code",
      "source": [
        "x = Variable(x)\n",
        "y = Variable(y)"
      ],
      "execution_count": 0,
      "outputs": []
    },
    {
      "metadata": {
        "id": "QyL0I5n-xfeN",
        "colab_type": "code",
        "colab": {}
      },
      "cell_type": "code",
      "source": [
        "# Creating Dataset\n",
        "class Dataset(Dataset):\n",
        "  \n",
        "  def __init__(self,x,y):\n",
        "    self.x = x\n",
        "    self.y = y\n",
        "  \n",
        "  def __getitem__(self, index):\n",
        "    return self.x[index], self.y[index]\n",
        "  \n",
        "  def __len__(self):\n",
        "    return len(self.x)"
      ],
      "execution_count": 0,
      "outputs": []
    },
    {
      "metadata": {
        "id": "ZgeBwVwrz1mH",
        "colab_type": "code",
        "colab": {}
      },
      "cell_type": "code",
      "source": [
        "dataset = Dataset(x,y)"
      ],
      "execution_count": 0,
      "outputs": []
    },
    {
      "metadata": {
        "id": "BtN5nW_V0A5n",
        "colab_type": "code",
        "colab": {
          "base_uri": "https://localhost:8080/",
          "height": 51
        },
        "outputId": "1af0cc62-47e1-4f9b-c177-de18d68a8e49"
      },
      "cell_type": "code",
      "source": [
        "print (dataset.x.shape)\n",
        "print (dataset.y.shape)"
      ],
      "execution_count": 16,
      "outputs": [
        {
          "output_type": "stream",
          "text": [
            "torch.Size([569, 5])\n",
            "torch.Size([569, 1])\n"
          ],
          "name": "stdout"
        }
      ]
    },
    {
      "metadata": {
        "id": "-4Jikd-N0IKO",
        "colab_type": "code",
        "colab": {}
      },
      "cell_type": "code",
      "source": [
        "# Creating train loader\n",
        "train_loader = torch.utils.data.DataLoader(dataset=dataset,\n",
        "                                          batch_size = 32,\n",
        "                                          shuffle = True)"
      ],
      "execution_count": 0,
      "outputs": []
    },
    {
      "metadata": {
        "id": "guorfYKm03aB",
        "colab_type": "code",
        "colab": {
          "base_uri": "https://localhost:8080/",
          "height": 34
        },
        "outputId": "e8189895-5cca-413e-f04c-165efa2c8e0a"
      },
      "cell_type": "code",
      "source": [
        "len(train_loader)"
      ],
      "execution_count": 18,
      "outputs": [
        {
          "output_type": "execute_result",
          "data": {
            "text/plain": [
              "18"
            ]
          },
          "metadata": {
            "tags": []
          },
          "execution_count": 18
        }
      ]
    },
    {
      "metadata": {
        "id": "0lSMBKot1GxN",
        "colab_type": "code",
        "colab": {
          "base_uri": "https://localhost:8080/",
          "height": 34
        },
        "outputId": "e1fa7126-78bb-45d4-f4ed-b74a216fc058"
      },
      "cell_type": "code",
      "source": [
        "18*32"
      ],
      "execution_count": 19,
      "outputs": [
        {
          "output_type": "execute_result",
          "data": {
            "text/plain": [
              "576"
            ]
          },
          "metadata": {
            "tags": []
          },
          "execution_count": 19
        }
      ]
    },
    {
      "metadata": {
        "id": "tWxEmeKC1MTk",
        "colab_type": "code",
        "colab": {
          "base_uri": "https://localhost:8080/",
          "height": 85
        },
        "outputId": "7ab4604c-f21f-438f-d01f-d49307391f08"
      },
      "cell_type": "code",
      "source": [
        "print (\"There is {} batches in the dataset\".format(len(train_loader)))\n",
        "shown = 0\n",
        "for(x,y) in train_loader:\n",
        "  if shown == 1:\n",
        "    break\n",
        "  print(\"For one iteration (batch), there is:\")\n",
        "  print(\"Data:  {} , Type: {} \".format(x.shape,x.dtype))\n",
        "  print(\"Labels:  {} , Type: {} \".format(y.shape,y.dtype))\n",
        "  shown += 1"
      ],
      "execution_count": 20,
      "outputs": [
        {
          "output_type": "stream",
          "text": [
            "There is 18 batches in the dataset\n",
            "For one iteration (batch), there is:\n",
            "Data:  torch.Size([32, 5]) , Type: torch.float64 \n",
            "Labels:  torch.Size([32, 1]) , Type: torch.float64 \n"
          ],
          "name": "stdout"
        }
      ]
    },
    {
      "metadata": {
        "id": "h1tjGXgF3cDj",
        "colab_type": "code",
        "colab": {}
      },
      "cell_type": "code",
      "source": [
        "# Build the NN\n",
        "class Model(nn.Module):\n",
        "  def __init__(self):\n",
        "    super(Model,self).__init__()\n",
        "    self.fc1 = torch.nn.Linear(x.shape[1], 3)\n",
        "    self.fc2 = torch.nn.Linear(3,1)\n",
        "    self.sigmoid = torch.nn.Sigmoid()\n",
        "    \n",
        "  def forward(self, x):\n",
        "    out = self.fc1(x)\n",
        "    out = self.sigmoid(out)\n",
        "    out = self.fc2(out)\n",
        "    out = self.sigmoid(out)\n",
        "    return out"
      ],
      "execution_count": 0,
      "outputs": []
    },
    {
      "metadata": {
        "id": "34WHEO397z9E",
        "colab_type": "code",
        "colab": {
          "base_uri": "https://localhost:8080/",
          "height": 71
        },
        "outputId": "626c2174-6804-4057-9a40-4b8c172f6d31"
      },
      "cell_type": "code",
      "source": [
        "net = Model()\n",
        "criterion = torch.nn.BCELoss(size_average=True)\n",
        "optimizer = torch.optim.SGD(net.parameters(), lr = 0.01)"
      ],
      "execution_count": 44,
      "outputs": [
        {
          "output_type": "stream",
          "text": [
            "/usr/local/lib/python3.6/dist-packages/torch/nn/functional.py:52: UserWarning: size_average and reduce args will be deprecated, please use reduction='elementwise_mean' instead.\n",
            "  warnings.warn(warning.format(ret))\n"
          ],
          "name": "stderr"
        }
      ]
    },
    {
      "metadata": {
        "id": "vD9L4JUO84sV",
        "colab_type": "code",
        "colab": {
          "base_uri": "https://localhost:8080/",
          "height": 102
        },
        "outputId": "26a0ed8a-70fc-439b-9adb-728ab77735d5"
      },
      "cell_type": "code",
      "source": [
        "net.parameters"
      ],
      "execution_count": 45,
      "outputs": [
        {
          "output_type": "execute_result",
          "data": {
            "text/plain": [
              "<bound method Module.parameters of Model(\n",
              "  (fc1): Linear(in_features=5, out_features=3, bias=True)\n",
              "  (fc2): Linear(in_features=3, out_features=1, bias=True)\n",
              "  (sigmoid): Sigmoid()\n",
              ")>"
            ]
          },
          "metadata": {
            "tags": []
          },
          "execution_count": 45
        }
      ]
    },
    {
      "metadata": {
        "id": "a0-TV3fC-NDs",
        "colab_type": "code",
        "colab": {
          "base_uri": "https://localhost:8080/",
          "height": 904
        },
        "outputId": "0147c597-6b1b-4ea8-d858-ee0046446df9"
      },
      "cell_type": "code",
      "source": [
        "# Training the network\n",
        "num_epochs = 50\n",
        "for epoch in range(num_epochs):\n",
        "  for inputs, labels in train_loader:\n",
        "    inputs = Variable(inputs.float())\n",
        "    labels = Variable(labels.float())\n",
        "    output = net(inputs)\n",
        "    optimizer.zero_grad()\n",
        "    loss = criterion(output, labels)\n",
        "    loss.backward()\n",
        "    optimizer.step()\n",
        "    \n",
        "  # Accuracy\n",
        "  # After we have looped through all our dataset, we can evaluate on the last iteration of each epoch\n",
        "  # 'Output' is the network's output of the last minibatch of the epoch, and labels is the corresponding batch labels\n",
        "  output = (output>0.5).float()\n",
        "  correct = (output == labels).float().sum()\n",
        "  print(\"Epoch {}/{}, Loss: {:.3f}, Accuracy: {:.3f}\".format(epoch+1, num_epochs, loss.data[0], correct/output.shape[0]))"
      ],
      "execution_count": 48,
      "outputs": [
        {
          "output_type": "stream",
          "text": [
            "/usr/local/lib/python3.6/dist-packages/ipykernel_launcher.py:17: UserWarning: invalid index of a 0-dim tensor. This will be an error in PyTorch 0.5. Use tensor.item() to convert a 0-dim tensor to a Python number\n"
          ],
          "name": "stderr"
        },
        {
          "output_type": "stream",
          "text": [
            "Epoch 1/50, Loss: 0.178, Accuracy: 0.960\n",
            "Epoch 2/50, Loss: 0.247, Accuracy: 0.880\n",
            "Epoch 3/50, Loss: 0.230, Accuracy: 0.880\n",
            "Epoch 4/50, Loss: 0.251, Accuracy: 0.840\n",
            "Epoch 5/50, Loss: 0.176, Accuracy: 0.920\n",
            "Epoch 6/50, Loss: 0.281, Accuracy: 0.840\n",
            "Epoch 7/50, Loss: 0.134, Accuracy: 0.960\n",
            "Epoch 8/50, Loss: 0.269, Accuracy: 0.880\n",
            "Epoch 9/50, Loss: 0.205, Accuracy: 0.880\n",
            "Epoch 10/50, Loss: 0.181, Accuracy: 0.960\n",
            "Epoch 11/50, Loss: 0.176, Accuracy: 0.920\n",
            "Epoch 12/50, Loss: 0.250, Accuracy: 0.800\n",
            "Epoch 13/50, Loss: 0.342, Accuracy: 0.840\n",
            "Epoch 14/50, Loss: 0.192, Accuracy: 0.920\n",
            "Epoch 15/50, Loss: 0.166, Accuracy: 0.920\n",
            "Epoch 16/50, Loss: 0.154, Accuracy: 1.000\n",
            "Epoch 17/50, Loss: 0.140, Accuracy: 0.960\n",
            "Epoch 18/50, Loss: 0.241, Accuracy: 0.840\n",
            "Epoch 19/50, Loss: 0.116, Accuracy: 0.960\n",
            "Epoch 20/50, Loss: 0.265, Accuracy: 0.920\n",
            "Epoch 21/50, Loss: 0.243, Accuracy: 0.920\n",
            "Epoch 22/50, Loss: 0.212, Accuracy: 0.880\n",
            "Epoch 23/50, Loss: 0.129, Accuracy: 0.960\n",
            "Epoch 24/50, Loss: 0.270, Accuracy: 0.840\n",
            "Epoch 25/50, Loss: 0.226, Accuracy: 0.920\n",
            "Epoch 26/50, Loss: 0.183, Accuracy: 0.920\n",
            "Epoch 27/50, Loss: 0.227, Accuracy: 0.880\n",
            "Epoch 28/50, Loss: 0.151, Accuracy: 0.960\n",
            "Epoch 29/50, Loss: 0.171, Accuracy: 0.920\n",
            "Epoch 30/50, Loss: 0.200, Accuracy: 0.960\n",
            "Epoch 31/50, Loss: 0.124, Accuracy: 0.960\n",
            "Epoch 32/50, Loss: 0.158, Accuracy: 1.000\n",
            "Epoch 33/50, Loss: 0.281, Accuracy: 0.880\n",
            "Epoch 34/50, Loss: 0.170, Accuracy: 0.960\n",
            "Epoch 35/50, Loss: 0.190, Accuracy: 0.880\n",
            "Epoch 36/50, Loss: 0.195, Accuracy: 0.960\n",
            "Epoch 37/50, Loss: 0.192, Accuracy: 0.920\n",
            "Epoch 38/50, Loss: 0.119, Accuracy: 1.000\n",
            "Epoch 39/50, Loss: 0.172, Accuracy: 0.920\n",
            "Epoch 40/50, Loss: 0.210, Accuracy: 0.920\n",
            "Epoch 41/50, Loss: 0.176, Accuracy: 0.920\n",
            "Epoch 42/50, Loss: 0.214, Accuracy: 0.960\n",
            "Epoch 43/50, Loss: 0.119, Accuracy: 0.960\n",
            "Epoch 44/50, Loss: 0.249, Accuracy: 0.840\n",
            "Epoch 45/50, Loss: 0.121, Accuracy: 1.000\n",
            "Epoch 46/50, Loss: 0.135, Accuracy: 0.960\n",
            "Epoch 47/50, Loss: 0.213, Accuracy: 0.920\n",
            "Epoch 48/50, Loss: 0.128, Accuracy: 0.960\n",
            "Epoch 49/50, Loss: 0.249, Accuracy: 0.920\n",
            "Epoch 50/50, Loss: 0.323, Accuracy: 0.880\n"
          ],
          "name": "stdout"
        }
      ]
    }
  ]
}